{
  "nbformat": 4,
  "nbformat_minor": 0,
  "metadata": {
    "colab": {
      "provenance": [],
      "authorship_tag": "ABX9TyOsIRAaLTXTLjyV8spv6DOc",
      "include_colab_link": true
    },
    "kernelspec": {
      "name": "python3",
      "display_name": "Python 3"
    },
    "language_info": {
      "name": "python"
    }
  },
  "cells": [
    {
      "cell_type": "markdown",
      "metadata": {
        "id": "view-in-github",
        "colab_type": "text"
      },
      "source": [
        "<a href=\"https://colab.research.google.com/github/Wahiba275/PySpark_RealEstate_Analysis/blob/main/PySpark_RealEstate_Analysis.ipynb\" target=\"_parent\"><img src=\"https://colab.research.google.com/assets/colab-badge.svg\" alt=\"Open In Colab\"/></a>"
      ]
    },
    {
      "cell_type": "code",
      "execution_count": 1,
      "metadata": {
        "colab": {
          "base_uri": "https://localhost:8080/"
        },
        "id": "5bKFTrm9hbYW",
        "outputId": "5832f679-3856-45d5-d5bd-da8fc8733afd"
      },
      "outputs": [
        {
          "output_type": "stream",
          "name": "stdout",
          "text": [
            "Collecting pyspark\n",
            "  Downloading pyspark-3.5.0.tar.gz (316.9 MB)\n",
            "\u001b[2K     \u001b[90m━━━━━━━━━━━━━━━━━━━━━━━━━━━━━━━━━━━━━━━━\u001b[0m \u001b[32m316.9/316.9 MB\u001b[0m \u001b[31m4.6 MB/s\u001b[0m eta \u001b[36m0:00:00\u001b[0m\n",
            "\u001b[?25h  Preparing metadata (setup.py) ... \u001b[?25l\u001b[?25hdone\n",
            "Requirement already satisfied: py4j in /usr/local/lib/python3.10/dist-packages (0.10.9.7)\n",
            "Building wheels for collected packages: pyspark\n",
            "  Building wheel for pyspark (setup.py) ... \u001b[?25l\u001b[?25hdone\n",
            "  Created wheel for pyspark: filename=pyspark-3.5.0-py2.py3-none-any.whl size=317425345 sha256=6f460dfaffeb07ab03d7aeafedf3263a22ea8655c4f42284f6dd4d51a6ea08ed\n",
            "  Stored in directory: /root/.cache/pip/wheels/41/4e/10/c2cf2467f71c678cfc8a6b9ac9241e5e44a01940da8fbb17fc\n",
            "Successfully built pyspark\n",
            "Installing collected packages: pyspark\n",
            "Successfully installed pyspark-3.5.0\n"
          ]
        }
      ],
      "source": [
        "!pip install pyspark py4j"
      ]
    },
    {
      "cell_type": "code",
      "source": [
        "from pyspark.sql import SparkSession"
      ],
      "metadata": {
        "id": "vpeLYtD6h0-s"
      },
      "execution_count": 2,
      "outputs": []
    },
    {
      "cell_type": "code",
      "source": [
        "spark=SparkSession.builder.appName(\"TP PySpark\").master(\"local[*]\").getOrCreate()"
      ],
      "metadata": {
        "id": "25w8ovBch1BA"
      },
      "execution_count": 3,
      "outputs": []
    },
    {
      "cell_type": "code",
      "source": [
        "dfAchats=spark.read.json(\"achats.json\")"
      ],
      "metadata": {
        "id": "VFyouUyqh1ES"
      },
      "execution_count": 4,
      "outputs": []
    },
    {
      "cell_type": "code",
      "source": [
        "dfAchats=spark.read.option(\"multiline\",True).json(\"achats.json\")"
      ],
      "metadata": {
        "id": "hfIdv9uaiUxI"
      },
      "execution_count": 5,
      "outputs": []
    },
    {
      "cell_type": "code",
      "source": [
        "dfAchats.show()\n"
      ],
      "metadata": {
        "colab": {
          "base_uri": "https://localhost:8080/"
        },
        "id": "YKNx9AGyiU0L",
        "outputId": "0715a037-e1b2-4bb8-faa9-e4a748a6d244"
      },
      "execution_count": 6,
      "outputs": [
        {
          "output_type": "stream",
          "name": "stdout",
          "text": [
            "+-----------------+---+---------+------+----+------+------+-------+-----------+--------------+----------+\n",
            "|          adresse| id|nb_pieces|   nom|numC|prenom|  prix|surface|        tel|          type|     ville|\n",
            "+-----------------+---+---------+------+----+------+------+-------+-----------+--------------+----------+\n",
            "|      agdal rabat|  1|        4| ahmed|1111| krami|900000|    110| 0633445530| haut-standing|     rabat|\n",
            "|      agdal rabat|  2|        3| ahmed|1111| krami|600000|     80| 0633445530|moyen-standing|     rabat|\n",
            "|maarif casablanca|  3|        4|rachid|2222| Ahmed|900000|    110| 0754352130| haut-standing|casablanca|\n",
            "|maarif casablanca|  4|        4| hajar|3333|  said|900000|    110|06938473230| haut-standing|casablanca|\n",
            "|maarif casablanca|  5|        4|  said|4444|belhaj|900000|    110|06938473430| haut-standing|casablanca|\n",
            "|      agdal rabat|  6|        4| hajar|5555|  said|900000|    110|06938473230|moyen-standing|     rabat|\n",
            "|      agdal rabat|  7|        3| hajar|5555|  said|600000|     80|06938473230|moyen-standing|     rabat|\n",
            "+-----------------+---+---------+------+----+------+------+-------+-----------+--------------+----------+\n",
            "\n"
          ]
        }
      ]
    },
    {
      "cell_type": "code",
      "source": [
        "dfAchats.printSchema()"
      ],
      "metadata": {
        "colab": {
          "base_uri": "https://localhost:8080/"
        },
        "id": "hR8iuku0iU4q",
        "outputId": "07fa6fff-50f5-48fe-8b2c-8f33b39697dd"
      },
      "execution_count": 7,
      "outputs": [
        {
          "output_type": "stream",
          "name": "stdout",
          "text": [
            "root\n",
            " |-- adresse: string (nullable = true)\n",
            " |-- id: long (nullable = true)\n",
            " |-- nb_pieces: long (nullable = true)\n",
            " |-- nom: string (nullable = true)\n",
            " |-- numC: long (nullable = true)\n",
            " |-- prenom: string (nullable = true)\n",
            " |-- prix: long (nullable = true)\n",
            " |-- surface: long (nullable = true)\n",
            " |-- tel: string (nullable = true)\n",
            " |-- type: string (nullable = true)\n",
            " |-- ville: string (nullable = true)\n",
            "\n"
          ]
        }
      ]
    },
    {
      "cell_type": "markdown",
      "source": [
        "#  Display the first two cities where the company has achieved higher sales (in terms of revenues)\n",
        "\n",
        "\n",
        "\n",
        "\n"
      ],
      "metadata": {
        "id": "S1zPPraYlOGG"
      }
    },
    {
      "cell_type": "code",
      "source": [
        "from pyspark.sql import functions as F"
      ],
      "metadata": {
        "id": "dDkaTJWciU7Z"
      },
      "execution_count": 8,
      "outputs": []
    },
    {
      "cell_type": "code",
      "source": [
        "total_revenues_per_city = dfAchats.groupBy(\"ville\").agg(F.sum(\"prix\"))\n",
        "total_revenues_per_city.show()"
      ],
      "metadata": {
        "colab": {
          "base_uri": "https://localhost:8080/"
        },
        "id": "pISKQKcMifgx",
        "outputId": "34bc7cfd-fd5d-40e4-b0cf-5dbefc36c3e4"
      },
      "execution_count": 9,
      "outputs": [
        {
          "output_type": "stream",
          "name": "stdout",
          "text": [
            "+----------+---------+\n",
            "|     ville|sum(prix)|\n",
            "+----------+---------+\n",
            "|casablanca|  2700000|\n",
            "|     rabat|  3000000|\n",
            "+----------+---------+\n",
            "\n"
          ]
        }
      ]
    },
    {
      "cell_type": "code",
      "source": [
        "top_cities=total_revenues_per_city.orderBy(F.desc(\"sum(prix)\")).limit(2)\n",
        "top_cities.show()"
      ],
      "metadata": {
        "colab": {
          "base_uri": "https://localhost:8080/"
        },
        "id": "izUqsCPCifjB",
        "outputId": "45ecd9f0-6b89-4ba1-8731-cb0a877e54d5"
      },
      "execution_count": 10,
      "outputs": [
        {
          "output_type": "stream",
          "name": "stdout",
          "text": [
            "+----------+---------+\n",
            "|     ville|sum(prix)|\n",
            "+----------+---------+\n",
            "|     rabat|  3000000|\n",
            "|casablanca|  2700000|\n",
            "+----------+---------+\n",
            "\n"
          ]
        }
      ]
    },
    {
      "cell_type": "markdown",
      "source": [
        "# Display the list of clients who own more than one apartment in Rabat"
      ],
      "metadata": {
        "id": "XW-1rpRblVNg"
      }
    },
    {
      "cell_type": "code",
      "source": [
        "rabat_data = dfAchats.filter(dfAchats.ville==\"rabat\").groupBy(\"nom\").count()\n",
        "top_clients = rabat_data.filter(rabat_data['count'] > 1)\n",
        "top_clients.show()\n"
      ],
      "metadata": {
        "colab": {
          "base_uri": "https://localhost:8080/"
        },
        "id": "-8Wep1yElJGP",
        "outputId": "dc11c0d8-bacd-4aaf-b4b1-98a6169e9662"
      },
      "execution_count": 14,
      "outputs": [
        {
          "output_type": "stream",
          "name": "stdout",
          "text": [
            "+-----+-----+\n",
            "|  nom|count|\n",
            "+-----+-----+\n",
            "|hajar|    2|\n",
            "|ahmed|    2|\n",
            "+-----+-----+\n",
            "\n"
          ]
        }
      ]
    },
    {
      "cell_type": "markdown",
      "source": [
        "# Display the number of apartments sold in Casablanca"
      ],
      "metadata": {
        "id": "gBYV0mPXqYQG"
      }
    },
    {
      "cell_type": "code",
      "source": [
        "casablanca_apartments_count = dfAchats.filter(dfAchats.ville == 'casablanca').count()\n",
        "casablanca_apartments_count"
      ],
      "metadata": {
        "colab": {
          "base_uri": "https://localhost:8080/"
        },
        "id": "-_96mfftqKgY",
        "outputId": "d2cea000-7785-4e64-f4ec-844c350b5510"
      },
      "execution_count": 17,
      "outputs": [
        {
          "output_type": "execute_result",
          "data": {
            "text/plain": [
              "3"
            ]
          },
          "metadata": {},
          "execution_count": 17
        }
      ]
    }
  ]
}